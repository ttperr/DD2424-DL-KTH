{
 "cells": [
  {
   "cell_type": "markdown",
   "metadata": {},
   "source": [
    "# Assignment 4 - Vanilla RNN"
   ]
  },
  {
   "cell_type": "markdown",
   "metadata": {},
   "source": [
    "## Libraries"
   ]
  },
  {
   "cell_type": "code",
   "execution_count": 107,
   "metadata": {},
   "outputs": [],
   "source": [
    "import math\n",
    "\n",
    "import halo\n",
    "import matplotlib.pyplot as plt\n",
    "import seaborn as sns\n",
    "import torch\n",
    "from tqdm.notebook import trange"
   ]
  },
  {
   "cell_type": "markdown",
   "metadata": {},
   "source": [
    "## Data"
   ]
  },
  {
   "cell_type": "code",
   "execution_count": 108,
   "metadata": {},
   "outputs": [
    {
     "name": "stdout",
     "output_type": "stream",
     "text": [
      "Number of unique characters: 80\n"
     ]
    }
   ],
   "source": [
    "book_fname = 'data/goblet_book.txt'\n",
    "with open(book_fname, 'r') as f:\n",
    "    book_data = f.read()\n",
    "    f.close()\n",
    "\n",
    "book_chars = list(set(book_data))\n",
    "K = len(book_chars)\n",
    "print(f\"Number of unique characters: {K}\")\n",
    "char2ind, ind2char = dict(), dict()\n",
    "for i, c in enumerate(book_chars):\n",
    "    char2ind[c] = i\n",
    "    ind2char[i] = c"
   ]
  },
  {
   "cell_type": "markdown",
   "metadata": {},
   "source": [
    "## Model"
   ]
  },
  {
   "cell_type": "code",
   "execution_count": 139,
   "metadata": {},
   "outputs": [],
   "source": [
    "class RNN:\n",
    "\n",
    "    def __init__(self, m=100, seq_length=25, eta=.1, sig=.01):\n",
    "        self.m = m\n",
    "        self.seq_length = seq_length\n",
    "        self.eta = eta\n",
    "\n",
    "        self.U = torch.randn(m, K, requires_grad=True) * sig\n",
    "        self.W = torch.randn(m, m, requires_grad=True) * sig\n",
    "        self.V = torch.randn(K, m, requires_grad=True) * sig\n",
    "        self.b = torch.zeros(m, 1, requires_grad=True)\n",
    "        self.c = torch.zeros(K, 1, requires_grad=True)\n",
    "\n",
    "        self.training_loss = []\n",
    "        self.validation_loss = []\n",
    "\n",
    "        self.grads = []\n",
    "        self.params = [self.V, self.c, self.W, self.b, self.U]\n",
    "\n",
    "    \n",
    "    def convert_to_text(self):\n",
    "        text = ''\n",
    "        for i in range(self.Y.shape[1]):\n",
    "            text += ind2char[torch.argmax(self.Y[:, i]).item()]\n",
    "        return text\n",
    "\n",
    "    def synthesize(self, h, x, n):\n",
    "        h = torch.tanh(self.W @ h + self.U @ x + self.b)\n",
    "        y = self.V @ h + self.c\n",
    "        p = torch.softmax(y, dim=0)\n",
    "        cp = torch.cumsum(p, dim=0)\n",
    "        a = torch.rand(1)\n",
    "        ixs = torch.where(cp - a > 0)[0]\n",
    "        self.Y[ixs[0], n] = 1\n",
    "        return h, p, ixs[0]\n",
    "\n",
    "    def forward(self, h_prev, x):\n",
    "        h = torch.tanh(self.W @ h_prev + self.U @ x + self.b)\n",
    "        y = self.V @ h + self.c\n",
    "        p = torch.softmax(y, dim=0)\n",
    "        return h, p, h_prev\n",
    "    \n",
    "    def backward(self, h, p,h_prev, x, y):\n",
    "        do = p - y\n",
    "        dV = do @ h.T\n",
    "        dh = self.V.T @ do\n",
    "        dh = dh * (1 - h**2)\n",
    "        dc = do\n",
    "        dW = dh @ h_prev.T\n",
    "        db = dh\n",
    "        dU = dh @ x.T\n",
    "        self.grads.append([dV, dc, dW, db, dU])\n",
    "        return dV, dc, dW, db, dU\n",
    "    \n",
    "    def loss(self, p, y):\n",
    "        return - torch.sum(y.T @ torch.log(p))\n",
    "    \n",
    "    def check_grads(self, book_data):\n",
    "        X_chars = book_data[:self.seq_length]\n",
    "        Y_chars = book_data[1:self.seq_length+1]\n",
    "        X = torch.zeros((K, self.seq_length))\n",
    "        Y = torch.zeros((K, self.seq_length))\n",
    "        h = torch.zeros((self.m, 1))\n",
    "        for i in range(self.seq_length):\n",
    "            X[char2ind[X_chars[i]], i] = 1\n",
    "            Y[char2ind[Y_chars[i]], i] = 1\n",
    "        \n",
    "        h, p, h_prev = self.forward(h, X[:, 0].reshape(K, 1))\n",
    "        y = Y[:, 0].reshape(K, 1)\n",
    "        self.backward(h, p, h_prev, X[:, 0].reshape(K, 1), y)\n",
    "\n",
    "        loss = self.loss(p, y)\n",
    "\n",
    "        for i in range(len(self.params)):\n",
    "            self.params[i].retain_grad()\n",
    "        loss.backward()\n",
    "\n",
    "        print(\"Checking gradients\")\n",
    "        with torch.no_grad():\n",
    "            for i in range(len(self.grads)):\n",
    "                for j in range(len(self.params)):\n",
    "                    diff = torch.norm(self.grads[i][j] - self.params[j].grad)\n",
    "                    rel_err = diff / (torch.norm(self.grads[i][j]) + torch.norm(self.params[j].grad) + 1e-6)\n",
    "                    print(f\"Relative error iter {i}, param {j}: {rel_err}\")\n"
   ]
  },
  {
   "cell_type": "code",
   "execution_count": 145,
   "metadata": {},
   "outputs": [
    {
     "name": "stdout",
     "output_type": "stream",
     "text": [
      "Checking gradients\n",
      "Relative error iter 0, param 0: 0.0\n",
      "Relative error iter 0, param 1: 0.0\n",
      "Relative error iter 0, param 2: 0.0\n",
      "Relative error iter 0, param 3: 0.0\n",
      "Relative error iter 0, param 4: 0.0\n"
     ]
    }
   ],
   "source": [
    "rnn = RNN()\n",
    "rnn.check_grads(book_data)"
   ]
  }
 ],
 "metadata": {
  "kernelspec": {
   "display_name": "Python 3",
   "language": "python",
   "name": "python3"
  },
  "language_info": {
   "codemirror_mode": {
    "name": "ipython",
    "version": 3
   },
   "file_extension": ".py",
   "mimetype": "text/x-python",
   "name": "python",
   "nbconvert_exporter": "python",
   "pygments_lexer": "ipython3",
   "version": "3.12.3"
  }
 },
 "nbformat": 4,
 "nbformat_minor": 2
}
