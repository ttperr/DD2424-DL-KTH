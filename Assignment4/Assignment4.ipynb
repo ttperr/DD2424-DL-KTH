{
 "cells": [
  {
   "cell_type": "markdown",
   "metadata": {},
   "source": [
    "# Assignment 4 - Vanilla RNN"
   ]
  },
  {
   "cell_type": "markdown",
   "metadata": {},
   "source": [
    "## Libraries"
   ]
  },
  {
   "cell_type": "code",
   "execution_count": 1,
   "metadata": {},
   "outputs": [],
   "source": [
    "import math\n",
    "\n",
    "import halo\n",
    "import matplotlib.pyplot as plt\n",
    "import seaborn as sns\n",
    "import torch\n",
    "from tqdm.notebook import trange"
   ]
  },
  {
   "cell_type": "markdown",
   "metadata": {},
   "source": [
    "## Data"
   ]
  },
  {
   "cell_type": "code",
   "execution_count": 2,
   "metadata": {},
   "outputs": [
    {
     "name": "stdout",
     "output_type": "stream",
     "text": [
      "Number of unique characters: 80\n"
     ]
    }
   ],
   "source": [
    "book_fname = 'data/goblet_book.txt'\n",
    "with open(book_fname, 'r') as f:\n",
    "    book_data = f.read()\n",
    "    f.close()\n",
    "\n",
    "book_chars = list(set(book_data))\n",
    "K = len(book_chars)\n",
    "print(f\"Number of unique characters: {K}\")\n",
    "char2ind, ind2char = dict(), dict()\n",
    "for i, c in enumerate(book_chars):\n",
    "    char2ind[c] = i\n",
    "    ind2char[i] = c"
   ]
  },
  {
   "cell_type": "markdown",
   "metadata": {},
   "source": [
    "## Model"
   ]
  },
  {
   "cell_type": "code",
   "execution_count": null,
   "metadata": {},
   "outputs": [],
   "source": [
    "class RNN:\n",
    "\n",
    "    def __init__(self, m=100, seq_length=25, eta=.1, sig=.01):\n",
    "        self.m = m\n",
    "        self.seq_length = seq_length\n",
    "        self.eta = eta\n",
    "\n",
    "        self.U = torch.randn(m, K) * sig\n",
    "        self.W = torch.randn(m, m) * sig\n",
    "        self.V = torch.randn(K, m) * sig\n",
    "        self.b = torch.zeros(m, 1)\n",
    "        self.c = torch.zeros(K, 1)\n",
    "\n",
    "        self.training_loss = []\n",
    "        self.validation_loss = []\n",
    "\n",
    "        self.Y = torch.zeros((K, seq_length))\n",
    "    \n",
    "    def convert_to_text(self):\n",
    "        text = ''\n",
    "        for i in range(self.Y.shape[1]):\n",
    "            text += ind2char[torch.argmax(self.Y[:, i]).item()]\n",
    "        return text\n",
    "\n",
    "    def synthesize(self, h, x, n):\n",
    "        h = torch.tanh(self.W @ h + self.U @ x + self.b)\n",
    "        y = self.V @ h + self.c\n",
    "        p = torch.softmax(y, dim=0)\n",
    "        cp = torch.cumsum(p, dim=0)\n",
    "        a = torch.rand(1)\n",
    "        ixs = torch.where(cp - a > 0)[0]\n",
    "        self.Y[ixs[0], n] = 1\n",
    "        return h, p, ixs[0]\n",
    "\n",
    "    def forward(self, h, x):\n",
    "        h = torch.tanh(self.W @ h + self.U @ x + self.b)\n",
    "        y = self.V @ h + self.c\n",
    "        p = torch.softmax(y, dim=0)\n",
    "        return h, p\n",
    "    \n",
    "    def backward(self, h, p, x, y):\n",
    "        dy = p - y\n",
    "        dV = dy @ h.T\n",
    "        dc = dy\n",
    "        dh = self.V.T @ dy\n",
    "        dh = dh * (1 - h * h)\n",
    "        dU = dh @ x.T\n",
    "        db = dh\n",
    "        dW = dh @ h.T\n",
    "        return dV, dc, dU, db, dW\n",
    "    \n",
    "    def loss(self, p, y):\n",
    "        return - torch.sum(y.T @ torch.log(p))"
   ]
  }
 ],
 "metadata": {
  "kernelspec": {
   "display_name": "Python 3",
   "language": "python",
   "name": "python3"
  },
  "language_info": {
   "codemirror_mode": {
    "name": "ipython",
    "version": 3
   },
   "file_extension": ".py",
   "mimetype": "text/x-python",
   "name": "python",
   "nbconvert_exporter": "python",
   "pygments_lexer": "ipython3",
   "version": "3.12.3"
  }
 },
 "nbformat": 4,
 "nbformat_minor": 2
}
